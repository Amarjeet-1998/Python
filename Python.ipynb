{
  "nbformat": 4,
  "nbformat_minor": 0,
  "metadata": {
    "colab": {
      "provenance": [],
      "authorship_tag": "ABX9TyNEJHGAq2E+bq2FS07vdq3U",
      "include_colab_link": true
    },
    "kernelspec": {
      "name": "python3",
      "display_name": "Python 3"
    },
    "language_info": {
      "name": "python"
    }
  },
  "cells": [
    {
      "cell_type": "markdown",
      "metadata": {
        "id": "view-in-github",
        "colab_type": "text"
      },
      "source": [
        "<a href=\"https://colab.research.google.com/github/Amarjeet-1998/Python/blob/main/Python.ipynb\" target=\"_parent\"><img src=\"https://colab.research.google.com/assets/colab-badge.svg\" alt=\"Open In Colab\"/></a>"
      ]
    },
    {
      "cell_type": "markdown",
      "source": [
        "# Handwritten Digits Classification"
      ],
      "metadata": {
        "id": "mWewQTt9Yvow"
      }
    },
    {
      "cell_type": "code",
      "execution_count": 1,
      "metadata": {
        "id": "MRsKP2PbYuPi"
      },
      "outputs": [],
      "source": [
        "\n"
      ]
    },
    {
      "cell_type": "markdown",
      "source": [
        "1) FizzBuzz. Print numbers from 1 to 100\n",
        "\n",
        "If it’s a multiplier of 3, print “Fizz”\n",
        "If it’s a multiplier of 5, print “Buzz”\n",
        "If both 3 and 5 — “Fizz Buzz\"\n",
        "Otherwise, print the number itself\n",
        "Example of output: 1, 2, Fizz, 4, Buzz, Fizz, 7, 8, Fizz, Buzz, 11, Fizz, 13, 14, Fizz Buzz, 16, 17, Fizz, 19, Buzz, Fizz, 22, 23, Fizz, Buzz, 26, Fizz, 28, 29, Fizz Buzz, 31, 32, Fizz, 34, Buzz, Fizz, ..."
      ],
      "metadata": {
        "id": "BI4lz68tat_S"
      }
    },
    {
      "cell_type": "code",
      "source": [
        "for i in range(1, 101):\n",
        "  if i % 3 == 0 and i % 5 ==0:\n",
        "    print('Fizz Buzz')\n",
        "  elif i % 3 == 0:\n",
        "    print('Fizz')\n",
        "  elif i % 5 == 0:\n",
        "    print('Buzz')\n",
        "  else:\n",
        "    print(i)"
      ],
      "metadata": {
        "colab": {
          "base_uri": "https://localhost:8080/"
        },
        "id": "_EKJaWOTZeAv",
        "outputId": "f5454535-6294-4b59-8113-c6d845fd92a1"
      },
      "execution_count": 3,
      "outputs": [
        {
          "output_type": "stream",
          "name": "stdout",
          "text": [
            "1\n",
            "2\n",
            "Fizz\n",
            "4\n",
            "Buzz\n",
            "Fizz\n",
            "7\n",
            "8\n",
            "Fizz\n",
            "Buzz\n",
            "11\n",
            "Fizz\n",
            "13\n",
            "14\n",
            "Fizz Buzz\n",
            "16\n",
            "17\n",
            "Fizz\n",
            "19\n",
            "Buzz\n",
            "Fizz\n",
            "22\n",
            "23\n",
            "Fizz\n",
            "Buzz\n",
            "26\n",
            "Fizz\n",
            "28\n",
            "29\n",
            "Fizz Buzz\n",
            "31\n",
            "32\n",
            "Fizz\n",
            "34\n",
            "Buzz\n",
            "Fizz\n",
            "37\n",
            "38\n",
            "Fizz\n",
            "Buzz\n",
            "41\n",
            "Fizz\n",
            "43\n",
            "44\n",
            "Fizz Buzz\n",
            "46\n",
            "47\n",
            "Fizz\n",
            "49\n",
            "Buzz\n",
            "Fizz\n",
            "52\n",
            "53\n",
            "Fizz\n",
            "Buzz\n",
            "56\n",
            "Fizz\n",
            "58\n",
            "59\n",
            "Fizz Buzz\n",
            "61\n",
            "62\n",
            "Fizz\n",
            "64\n",
            "Buzz\n",
            "Fizz\n",
            "67\n",
            "68\n",
            "Fizz\n",
            "Buzz\n",
            "71\n",
            "Fizz\n",
            "73\n",
            "74\n",
            "Fizz Buzz\n",
            "76\n",
            "77\n",
            "Fizz\n",
            "79\n",
            "Buzz\n",
            "Fizz\n",
            "82\n",
            "83\n",
            "Fizz\n",
            "Buzz\n",
            "86\n",
            "Fizz\n",
            "88\n",
            "89\n",
            "Fizz Buzz\n",
            "91\n",
            "92\n",
            "Fizz\n",
            "94\n",
            "Buzz\n",
            "Fizz\n",
            "97\n",
            "98\n",
            "Fizz\n",
            "Buzz\n"
          ]
        }
      ]
    },
    {
      "cell_type": "markdown",
      "source": [
        "2) Factorial. Calculate a factorial of a number\n",
        "\n",
        "factorial(5) = 5! = 1 * 2 * 3 * 4 * 5 = 120\n",
        "factorial(10) = 10! = 1 * 2 * 3 * 4 * 5 * 6 * 7 * 8 * 9 * 10 = 3628800"
      ],
      "metadata": {
        "id": "gyO2IKJtbPtu"
      }
    },
    {
      "cell_type": "code",
      "source": [
        "def factorial(n):\n",
        "  result = 1\n",
        "  for i in range(2, n+1):\n",
        "    result *= i\n",
        "  return result"
      ],
      "metadata": {
        "id": "qlcKi4pUbNI1"
      },
      "execution_count": 4,
      "outputs": []
    },
    {
      "cell_type": "code",
      "source": [
        "factorial(24)"
      ],
      "metadata": {
        "colab": {
          "base_uri": "https://localhost:8080/"
        },
        "id": "j8-AHFwJbacI",
        "outputId": "60c9db7d-a713-4efb-bb01-9ea0ea2ef93f"
      },
      "execution_count": 5,
      "outputs": [
        {
          "output_type": "execute_result",
          "data": {
            "text/plain": [
              "620448401733239439360000"
            ]
          },
          "metadata": {},
          "execution_count": 5
        }
      ]
    },
    {
      "cell_type": "code",
      "source": [
        "def factorial(n: int):\n",
        "  if n == 0 or n == 1:\n",
        "    return 1\n",
        "  else:\n",
        "    return n * factorial(n -1)\n",
        "    "
      ],
      "metadata": {
        "id": "wNjJDD_Ebe8o"
      },
      "execution_count": 6,
      "outputs": []
    },
    {
      "cell_type": "markdown",
      "source": [
        "\n",
        "3) Mean. Compute the mean of number in a list\n",
        "\n",
        "mean([4, 36, 45, 50, 75]) = 42\n",
        "mean([]) = NaN (use float('NaN'))\n",
        "\n",
        "![image.png](data:image/png;base64,iVBORw0KGgoAAAANSUhEUgAAAhoAAAB5CAIAAADwJB+sAAAeWUlEQVR4nO3dfVAbZ5og8CdnFT1hS7pxnVyejRjXWIkr6Oy4WU3UOGM0ngXZN5KSDeA9g30DeC8I7wbIHZJzATxlZFeMmbUFcwZyY2B2+JhyhGsMzDlIdVi44hGzNk2NRk3ZI+WwmytHyh7lzjDXqtOmWfl8fwhsEfNlaJAwz+8vI7VaryW9/fT7vF8vPHr0CBBCCKGV+VfxLgBCCKHnAYYThBBCIsBwghBCSAQYThBCCIkAwwlCCCERYDhBCCEkAgwnCCGERIDhBCGEkAgwnCCEEBIBhhOEEEIiwHCCEEJIBBhOEEIIiQDDCUIIIRFgOEEIISQCDCcIIYREgOEEIYSQCDCcIIQQEoEk3gVAzyDQnmeo903/sa2oq89CznyBwx9mlv06lJSUBDA1NQXyg03OyvR4lRMhtAG9gJv7rjMCZ6/Q1w4JAPLcj5zWDOLxM/y4vepHtuCBU2f/Nku1lVjgHAghJDpMdq07Pr9fQarlANw1p1uIeUL2zSQAsrDUgLEEIbT2MJysN3e9XoIqe9eoAAh96hjknzwjMKO+belp8viVDSG0gWE4WWcCHvrBTipNbTBsBwi5+288iSd+j5dQU8o4Fg4htIFhOFlf+FEPq9KkERKV0aACEGini5t+KuD18KQmNa7FQwhtXBhOlmyS6ajQZ55yx7MMAkPfTklXywFAqTeQEhBGHK6JaPFoelxFkdhrghCKDwwnixC4gO+mo6OuNFtfYBsMhsLC4q9ZPXe9Xgm5ezsAAGwzGtUECHS/MwAAAkP7tlPU5niWDiG0keG8k/n5G7OPtLIRAABisxTC8S7PdMdJUdr0lybX6Skb7WYcTvaoKTTCEOrDKfEtH0JoA8PWyfy2fr/kA2vd+eauT4aGukpS4x95ZzpOZv6WZxq1yQB3+/vvsLRHINXYcbIucVdKs0+6+MUPXA/GWgsO2ZhIvIuRIDbYpxH/a2Ti2kwa8sjpf9+Pa0mioh0n78YMBN6cYciQugZYx6VOxX2VATtO1iee44IT/FS8iyGOyQfB+/yDeJciUWywTwNbJ+vHXdoLMx0n02RavVYKELzaQ2/DjpN1KxLXDjmERILhZN0IjHgfkGlps9uTRIZxvxwAQKFOw46TdQqDCXo+YDhZFwTO39P0K4aAr4JfS7ETlD5TDiDFGSfLxDH2UwX6vRrNnsy8cpvrvgARzn3RnKffq9mnL65zBNZR4lsIuNsq8/ZrNJq9+sPm1iEOQGAHbKW5mXv3ZGaXN7onVr8MD5+TpJ04xPs0eH9P7bHsvRqNJjO7+MMeXxhgkuk4UaDfp9mrL7Be8SXCTQn2nSQ8wV15oNQRAgCAL6zZ1ztNl/rKn8QOIj3HqHSy38eOk2cnjNnN79p8OwqPN1QrQo7zJzrMx4K5r3j776aVnfhIyZyvvFhj2ZzafWyVlxp4KMZJeKb1vXdbuPSyyjZqc7D7w8rGCvaeXu4e4Pa/f/ajFwdra1rNJ7f0XszHVuy6E3BUmmrc8kOW+vdUUzdtlResxZ+Ppgf7vYrC6sayYGuV7Yw56dt91VScLwIYThIeoa27MVq3wAE7LX2/XbPSPEfCTNNxm29XVee53BQJAChyrnQwQ66eoCK//WyRvLf4OBMCYP1+AZQJH6t5108qGrn9ze1WrRwAyEJDR88Fn6OPVZX2Wd8WGo/0+gSAMX8wAilY6deXsdaq025FaVfzUSUBAK/ma9tox80el9xQX1dO3TTrb3AA4LsbgniHE0x2oQ2KvXzezlFllbkzl1c+FJ1atDu/UE0IY14mDAAEqdmd8LEEYLS1yQmGCrN2ZtyfEJ1vS2jzDikh5GPuCgAgVVMqjCXrDNdzod3/ytHqH83c04Snph4CACjePKzbDOOjvhAASJSUOv6Lv+KPC21M7KCDkR5oNm6deSDsZ8YAAJQUlQIA+8qaalT+F6kcw5zJISFwk54itcrkNSruwhhHP/vtnLP7ZDMPcMwdFgBgp5baDADG6vop9xdybbZOFvMqju5oancM32E5QSpPTTMcKisyKGVfPzeKK+43jlugPZmnfHyp9nu9AgDI098gAYAsrrMqvLDTmPt052k0Tz4Z/YPQ1jibD86EnAl78ds2BpKSNgE8nJoC0vLrtvytT53hGWE4QRuT0tQ+VJgke9LyuE17QwAgp/aoAAAkKekHi57ez5KfYIM+2nGlw/5bWckVrXL7U0fMjQ/cGf9ynt7SexMC8OM+DzP3pVySpHhVJV+wiURW9A1VyGSPa3PY670NAKDUkCkAAITyB/lf6//hHJXF7d8o/LHN/J1vcH5XS52ttdI9OFrfWaldNKJw40xwcu6nvrr7QHgojHsYZs5LiwSkL5HK+N9Gi2l1Pw15bvOgEWJ+p+zvGQ4AktOondEDyNwCcu7XEtq6G6On6NrsYnsQBPfV/sDBoumbo635bTd0ww3FJqe8/Lw1T50iE6MNjuEEbVTJs2rQdC2VplG75nuB4KjIqKGlSpUKxoICPMt9/Fi3paDRt9AgsY7Sox3zPEVozww2v7Xg2xGyWU/7aToaGjWquY8XhlsaBkFtefk7KTIZyKj8up8KwYM25lJtU+ZiPbqR4ZYSk33BQWKNxQXzPSXNbr5+WrsO8odLtPqfBjHrd8rRHhYACJKilvYDfPCZj99NqT6jfaMO53iR6fENECH/xiZBoS83vSHa4AwMJ89IlEE4KOHM1NJdGWnz5q8IQ8OIAQCAbT3s9n32LKffYer2mOZ70nchu/BOofNirlh37exINDRS84bGCb/vS4F11jaSurYjcgCAbVm6V23MaNB9ww/UPHe7UZL06muj1fM9e9OaWfFV9VCdboNcWtb40wh7vbcFAFCqqaX9WvhRmlW91WaQFVqHfP0O1lT6uJka8DIC+TdiTjDYIN95opoY7nH6QzA1tYzJDcsKbNLdOflvPF+5BlGEvXS0lmpm7WYphAUied3dSXP0iA8AiF3UrNAoCMImgojW+K3U99VyP6tMJ6UzT39D+mcAAHz4qzUtLHomt6PtTgWpiUleRgRhiiDmvA0SGNqfkv6eSpestQ252IF+37Hy6eEYkzQ9rspSi/nzxnASV6yzqb6HW/w48WzjVX0WEr92AN7vcozwKn0uKX/ccaIg1U9qKT9Qqa8MllztKlLEr5RLNME4Bn1AGgw7ZRD20tMdJzGhccJe/KZNdnKwPpo0I1SmtuuzmkuR4Ph9AADljsT/324oAvtpr3tCkXVQmyIBdoTmAEBKUjGNCuZ8dsFNQ/eV8jmG7d31eiWkfjvIthq0m12OcYdjtFylBpjZ0qJK1JWZ8LoSV5rikjeu1d4MPXmEUJnaO8t3LuGWYaZBIzwUAAAEIfTP/Fd86EuOC04Eg/fZe34fwzDB0OxX3e/5+IaJzNrw43fGWk0FjT4B5Kziek267xbNAQChSntSSzlXn3tKYzEm/tVVYGrfKbDfB3jlwfbL5UrPkDcMAHLVziehkb3ayyRnxQz9euocnn5XEEBuKNIn3jRHbrijuZuZ2m44VqLbtlDV4EftTZ00/1JGyd/mLjjoTmCvNrVcD8r2FJXlkYlcGQJXzAWn3CEgGOlQveGBe4QFANiRlvr4f8e7Ph7gVHnGOYeAP9nSQqY17pM7+oL9juEydToB4B9hCFLkLS0wnDwzAUC09qEkJf/0Cfpw5eMdekHwtVbbqK7q9EV/4zNfHSEhAAAIgpDJYCuk7ICYzDcfoIecA/09n7iD0/u1hAYvu7gs0dL06xTnGfYJACBVkS9DeLjXyQIAJMmkSdMHBPpqmzwphT83roMP6v5v6C8AAOS70hQSfrDvGgcAEiKavAIAYayj9hcBsvSsbr4fVYS1f9QblChyTxzXJdxCoryrzmwbCAGAOyhLbS+a9woYGW6y1NonAMDll6j63ptnGAIA+FvMNR1sBGDQO6VwWjMSNp8p+G/SIQBITiVVBPh7e0cBAAhp0sw3ybnP2waTc+oPz7lwAz/qYVV7oltaENSbOnmfnbvupN9P1xIB2iOQx0RemQmnMc4vEnB32+2XOjraW23nev0RAABhpLXmQkfHJbv9kt0xKkaaaqvBejJXERvWx+1VP3GJlAGTpVAG04+bnc5uawEllwAACCPdvWPinH39km5XKgDk+0oKd9zrOGnt3aTLzZBD6Df2j4d9Y8M9p/Ly6nzUCduSmolxt1WVKgVQGMr+Ws5cNJ8fSjFkk9JI0NXdw4z53F2VeUebuLfq6o7Mt1SMwLbXNI1KdSdbrVkJGD2nuD9Nr3wlTPKhBXoZp0LcTFucn1xw+xg+xE+fJ8RPJsJiV/MhlDuUAFKyoISa7LFWd/J7cnUKEDy9HZ/62FGHrfiQeUhpabDMPbg7Zi9wACDURuM2AO5a/xAPk7T3vvh7gWPrZH4PR3vP17o3EbApKQkgSSpNgmiMaRl8OAUPQX5IZdgtQvWT/cBsPew1dbGPH+Gu1tRoUpuzxWuJblblvt+me8tee9zmuO/7uHu48Mfp6+FKuVoIylJfM1X7i5aydwiFJqf+YrlWzlIXalvaygqbpQpSZ/l5We7ORM6CxJDpqhsscK7D9s4g8Yq26EJ9EQW+nfW1XbbiI1PS7ZTxRHeZYd51Yvghm7mNy/qws27uCZtxJ895r8Rd3U6HlTkVhxea1Z+sLavQsR+5H2zNOv43T08ZiqEuPH6QOe8MyN4oNx1I6G9ZefRsHV/bctlceFlO6k+1VRiUXFbj+abeysJOQp66r6iprih9vovQTMfJNAlpOKDsaGPdziEOxO84AQB4hBLBV39oyX/9tVjfe6edXYU3+uOtMzmvv/a9iv4/rsLJN4p7LfmvvfYXh1pE+oL+8F/ffr3kygNxTvaM2I/f1b1d45p58z/eu+X7Pys64T/W/GX6B9f+ZeUley7E9dP4vPNH37Nc+yr2of954e2/eO219Hdq/ssPf/j3XtHfEZNdiYFQmWotlDTmkRDdVN0o/qrTm9Orf2rRgvvjXwfEPjVabyaHaz+wS99ve5zj4m801Q8G41soJBJ+lJ61FzgAwA6j8VWAMN3j5FdjSwsMJwlje771fV1sQBHutFY1DIu/hfi2/KpSkv1V98bZwjrBKdRZxn0q6eIHiirC2k/Wc0fqT2XKAQAigsBzQze9csXKhrJto4zZlBKT6FFx/DQEhr6zhSS/lghT6g0kAACRJnrHCQC88OjRI9FPipaLd53INl+N6YaXKAznuutEH9cb4dg/PJAtthIUmtvkcG2Byf6FIv9Cd3VGQmfe58e7T+WVXnm6IaLIb3dWq+NQICQmPjDcZTX/PJTf1lyinl3LJ+zFb9bSr1ocv5x/jNxyYThJMPxwbYHJPh7zyGad9XJ97ooX+0Qrx5zTF1/mYFPMQw8Btua3rbuZoeOteQfnWkNMQlU7RVhZFsUR21aQ9xEznSaPAJFVN9hgiLnr4R3l+pbtbX3m+QdSLxeGk4Qj3GksPNoa22sipaq7fpaPCQSEUCITKZyEfa6rDLfAKlKb5KRep1qniYE1x3YV552jYwIKoSrt7DymwtQUQihhiRROgh0Fb9kW6tqVqMqvdJuWujkECvSU51lvxCyQIlEW/azTssQ1qRFCaM1hsitRca7Kw2ZH7D4KitzmS1Ztwq2BgRBCADhQOHHJddWnZ/eXBHtqTjvWdPlhhBBaMvHCCcfYTxXo92o0ezLzym2u+wJEOPdFc55+r2afvrjOEcBZDs9I9obl7Duz+ku4wTOVl9h5XyA+gR1oNOdmajSavW8WVF5ieADe31NbnJ25Z2/mYXOHR/xZMQihdWqT1Wpd+VmEMft/+o9V/4MwVFRafpTxwnBXR6drfGKksekfv/UfTpzIl3vt7b+6JdH9+9cxU/NMJFvU3yVGem/+0+NBDlNBj0+SYfyufA2GeXHuOpPpv91/rfiDD0reUgYc/9Bh/90/sX02+4S24szfUZPX/qHzv//vHdk65YurXxaEUMITo+8kzNgOF/crqzrP5aZIAIDveTfDOgQAivz2vmp5b/GhWjoMRFbdUINh0bFJ3DgTnFxWMSQgfYlUJuCKqCsU7Ck9YnXHfiavFHX90kIutJ2DCAJXSvPquNyLrRa1DADAY9Mf7QgCEG9YnReN9z7MNl0OgkRputRXvqLFGvjAnfEvl7eWjCRJgTMxEUoYItzkspfP2zmqqiUaSwCAD0W31tidX6gmhEEvEwYAgtTsXrziR4ZbSkz2iUWPm5s8u9l5Wvu8XV4UuadO0IeOx/Sa3O2oPEd118y9KLU4wu62ZveWQ11l6pk3CYd4AACp8bBRDsHeO0EAgK0UtW1lbzTWbSmYaz7dUkikulPO6e0FEULxtvJwwg46GOmBZuPjmbRhPzMGAKCkqBQA2FfWVKPyv0jlLGX5a0l69bXR6hWX6TkjP1B99ojfFNNrErxSY9VcrjesVltMuNl/LUSW5D1Z1oe94wsBQHI6pSYAlHk1dUm3+NT9OelzNJIE5mJxRTdRdLGtaMdi77TD1O0xLXYQQmgdWHk4UZrahwqTZE/aBNPbbsupPSoAAElK+sGiBTcfiI/du3evwbuMjo6KcRpZesVZk6ew1f84K8S5flLTQzbnrs7Ws8S+U85BkD257+doDwsAsIuKTn2RpRqK5s1xPfCN+EObtFsSrNmwNt84Qs+B5V24xBjZlSwjYqIS+3uGAwBpGrVLhHOjaYSq/EzZrP6SSe/QyKoNG5YQspg7BAh7vbcFAFBpqCU0iFLyfzY05Kw34NJPCG0kog8Qmr6NJXZlpK1yX/EKidRuWEM7is6+T+edcocAAAhlQb01e60GHvhpOgQAclIz3waxs0mIBOzBWn/fOELritjhJOylbwsAoNSkxV7qhLBAJC/pCrP8kV0A0m3P48iuGCkHLUe73Y1+kB841VSRvmbJJHYk2uKkqNgElyAIQKw4bqxoZNe/eUWVkth3LQhtHCKEE97vcozwKn0uKX/ccaIg1U9uY/mBSn1lsORqV9Giif6VjeySZjdff/5Gdj0h+Npr2/0gVZc3nzGkrOrMEyEw/Mng+De1OVlKAjh6xAcAxC4qpsXJthZkt+9s/m2N9smrIgHHmaqWW0Fha471QvmSwt1KRnYBoT0z2IwjuxBKDCu+Jo21mgoafQLIWcX1mnTfLZoDAEKV9uQ2lnP1uac0FuNSOo1xZNf8uIEa8wV6ant+fYNpldcW5l0nC81ODiQuuNqVL6Xp2wAAip2qx20/wdPbc1dhrKRiXiUwF6p6vlXded5VWNDZeb0oPXsJF3oc2YXQ82KlXfGcZ9gnAIBURb4M4eFeJwsAkCSTJk0fEOirbfKkFL5nfK6zUKuO9zSWnnQEv6mtaqxe9VUgIz7awwEAfDtNJYfAJz3uMACAVDaz/yzPNNXZhczyEnVMWOP6W669XFSg4hkmGEmSLi23iRB6bqw0nEi3KxUA8n0lhTvudZy09m7S5WbIIfQb+8fDvrHhnlN5eXU+6oStfCdeXFbgfk/V8VYfqEw/rc9d4bTBpZC8rFQSQCjzSw0waKtq9qVmG5QE+B2drjusb6C19EhxT3JJw8nZ0144UB7No5IDgw5a2KzVZeA3jtDGsvJFVgTflbO1v7jm5wiFJsdSWa6Vs44LtS2fMEFBqiB1he+V5e7E7PYKTLqtR0t7PlfknuuyZq1VG2/C3VjX1HuTFTan7j9abc5TAd1R29DhvhsCeWp6don5He3cnTfjrXkHGx+8+TwuT4AQWhDud5LYBF/rseJGD1CVXc1HlIl/gfY1Z+dd5HMvOq1vJH5hEUJiwv1OElgk4DhR2uiZUh2tr18PsQQiPscACwpdjoYIDDR20Lh8PUIbCIaThMUPny+rGeDk+lPN5rWbYrIinzlcn4Niv5EEX2/bIP9n66PUCCFRYDhJTALbZTZfYpMoS/Pp1VjoUeAnOF70Dc0mQ3xESqpTOWfr4NbCwzvFPj9CKIFhOElE3EBNaQM99Up+/bmi1Zhiwjuq9IfO01Nin1dTWJ61hT6TXTygOnU6F4eGI7ShYFf8XMKuSr3ZEbvWSzJp+biraPuso7grxfozDLyYlCQBAkCIwNTDKYEwNg9atSuYHsp7bKZjHb5v6ura6w2rsWBweLj2kMmlaXbW4OArtFbiWqfQ2hBnc9/nzf8DkCp2aV7flRz0jIcAAP5lYuJf/yCf2hJ7VOSRRPbn39ryf1lm/E/hr6aIbek/fMtoyDX8ux1blv/LH7eb/67pdy+Q5T+7kK9chQoUCfScsDR5ZH/1QfVf/rn4p0dobnGsU2itYOtkIcN1maZLM4vAbyvq6rOQT/+ouZ7iA1bfnuruC/krXUeLc1mPmnsmlPkNndUZq9CPzfvsJ0prb3Cw3dR9pVyFFRStubWuU2gNYd/JAthRD0eoDbrovh33Xf2euVa+ve8PApH+5orXZAwzjf+5que+XHeiaRViiRD4tLX0YF7tDQ4AVAYjxhIUD2tbp9DawnAyP44evgvKjKIifXR15KDLST/922c9THATOb1J4bJFAj0fVLSOAlnafDZ7CbsgLx0fYK62Vh7ONLzX6I4u1SwhDfqlbVuCkLjWsk6hNYfRf16Ch2ZAka9WkVKj8peNbAS46/3u97W6WRtscN4RFl4pWcomhfPj3WfKrDc45cHmhmMrG8kl8PyfeG4iGAwE2bt+ZpQe9rCh2QOCCbXRuAYLfyH0lDWsUygOMJzMy0t7hRcpcicAoc95tdF2B2DS7fiU1xlibprCXvq2oMimVnC3L/jaSiuvsAAQvF5z6AbApgUPfxjzyoczN3YRgIdTU1OCsPhUEoJ6U4f1FMXFWtUpFB8YTuYR8dEejiApigCAlKy3qKY7tAAht9PFGWJmVNym6X+WUprU+U+0iEBfVekFJgQAAMIkt7xtCZ+BVGvMxGiC4mGt6hSKF+w7mceXDPO/QDmTvk05YKAIAADhlsMVs1kkO0Jzm9IocrkJqvGOqjoXt/hxopH/ICcLM9IoLtamTqH4wdbJ3PjfRZO8M73icp0x46x7UACB7h8I5BdEH+fo37Pwag617P2sthd13SoSo7wIJbo1qlMofrB1MjffiFeQktSrjx+QZeizopsRMo7olpMAPE3fBqWaEnUkFkLPJ6xTzz0MJ3OJJnl3z2pwy/YZ90fzu5/19/sBAIRR2jslT8MuQ4QWhXVqA8BwMpcJmv4cUr87e9w7QemjndgR1uHwAQDr8XJJadRuTPIitBisUxsAhpM58B7aD4o09dca3ET6XxmjSzIGr/UyQoCmWUgld2PPNkKLwTq1EWA4eZrAjHgFaXpMknfGvzUYogugBl29A0P0Z6uW5I2w9nL93txGRoQtSYTATTcbXvl5EFq2BKhTaPVhOHlKxE97QsTu3XOMVJSojAYVAABw/Q0ttCBPU69Okjfspz1B2LJFupKF7idY36d2W3l2TmnT4MTixyO0WhKhTqHVhwOFn/KFl/4CUv967gWDlHoDedHHREDgOEjWrVaSV2aov54FxLJPLjgqMmpoqVKlgrGgAJg7QHGVCHUKrT5snXwdN0KzcyR5Z2zLMqpnfu6pq7lI3fJjCQAQhoaRkd9e726z6F4SrUQILU+i1Cm0yjCczBYJ9DtpYZNS9Z35jkjR6aOTeUGpIXG5EoQWgXVqw8BkVxTvG3DQYyxzo9/lFwDc583WexmpaftytNu/3kqQZxq19W5XSE5pVOIXhHPbTthcLC/bV938Y1yrEa1fCVOn0FrBcAIAAOGh1pO1rocEAUAQBIDAeXpaaanuJcPTP33YnJWTJXfdoKhdYhcjwnZUtkBJZ+tnpYaGjv5CXRGuJI/WqQSpU2gNYTgBAIBkQ/0tw5KPJrSnr4+uQimEGy32F3O6KRi6zMImFZEMAMD1mQuavQusNExIZirni+mWdqsOU88oESRGnUJrCcNJAnkgKPKP6GSTrv6hEKE2RFNd8ux6Z3a8S4YQQovBcJJAUgzlRQDclUE6TFB67DhBCK0nOLIr0XAuJy1ItcZMTFohhNYTbJ0kmPv9/R5But+QIePc7b2C3pR201x80bekXRqT0i1d2HeCEIoPDCeJJXDDxUSkBr1WFuzt6A4WHQZ5dn0f9p0ghBIeJrsSS2gyBJI0ihTcbXYhr1C7wvUmJh88CAEA/yDIi1I8hBCazwuPHj2KdxlQjKCjsuI8HZIp91vqzNpl98Yz5/TFlznYFPPQQ4Ct+W19FhJbpAihVYDhBCGEkAgw2YUQQkgEGE4QQgiJAMMJQgghEWA4QQghJAIMJwghhESA4QQhhJAIMJwghBASAYYThBBCIsBwghBCSAQYThBCCIkAwwlCCCERYDhBCCEkAgwnCCGERIDhBCGEkAgwnCCEEBIBhhOEEEIiwHCCEEJIBP8fQ/acadDXTowAAAAASUVORK5CYII=)\n"
      ],
      "metadata": {
        "id": "MMBECmxLbwoA"
      }
    },
    {
      "cell_type": "code",
      "source": [
        "def mean(numbers):\n",
        "  if len(numbers)>0:\n",
        "    return sum(numbers)/len(numbers)\n",
        "  return float('NaN')"
      ],
      "metadata": {
        "id": "3J_1uHZdbrRg"
      },
      "execution_count": 7,
      "outputs": []
    },
    {
      "cell_type": "markdown",
      "source": [
        "4) STD. Calculate the standard deviation of elements in a list.\n",
        "\n",
        "std([1, 2, 3, 4]) = 1.29\n",
        "std([1]) = NaN (use float('NaN'))\n",
        "std([]) = NaN\n"
      ],
      "metadata": {
        "id": "U07obCLgcH8f"
      }
    },
    {
      "cell_type": "code",
      "source": [
        "from math import sqrt\n",
        "from statistics import mean\n",
        "\n",
        "def std_dev(numbers):\n",
        "  if len(numbers) > 1:\n",
        "    avg = mean(numbers)\n",
        "    var = sum((i- avg)** 2 for i in numbers)/ (len(numbers)-1)\n",
        "    std = sqrt(var)\n",
        "    return std\n",
        "  return float('Nan')"
      ],
      "metadata": {
        "id": "vGtdKrelcABp"
      },
      "execution_count": 8,
      "outputs": []
    },
    {
      "cell_type": "markdown",
      "source": [
        "5) RMSE. Calculate the RMSE (root mean squared error) of a model. The function takes in two lists: one with actual values, one with predictions.\n",
        "\n",
        "rmse([1, 2], [1, 2]) = 0\n",
        "rmse([1, 2, 3], [3, 2, 1]) = 1.63\n",
        "\n",
        "![image.png](data:image/png;base64,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)"
      ],
      "metadata": {
        "id": "sxQ16OmOcv3C"
      }
    },
    {
      "cell_type": "code",
      "source": [
        "import math \n",
        "\n",
        "def rmse(y_true, y_pred):\n",
        "  assert len(y_true) == len(y_pred), 'different sizes of the arguments'\n",
        "  squares = (sum(x- y)**2 for x,y in zip(y_true, y_pred))\n",
        "  return math.sqrt(squares / len(y_true))"
      ],
      "metadata": {
        "id": "6AXTsYYacr5P"
      },
      "execution_count": 9,
      "outputs": []
    },
    {
      "cell_type": "markdown",
      "source": [
        "6) Remove duplicates. Remove duplicates in list. The list is not sorted and the order of elements from the original list should be preserved.\n",
        "\n",
        "[1, 2, 3, 1] ⇒ [1, 2, 3]\n",
        "[1, 3, 2, 1, 5, 3, 5, 1, 4] ⇒ [1, 3, 2, 5, 4]"
      ],
      "metadata": {
        "id": "jhTEIAQ5fb1r"
      }
    },
    {
      "cell_type": "code",
      "source": [
        "def remove_duplicates(lst):\n",
        "  new_list = []\n",
        "  mentioned_values = set()\n",
        "  for elem in lst:\n",
        "    if elem not in mentioned_values:\n",
        "      new_list.append(elem)\n",
        "      mentioned_values.add(elem)\n",
        "    return new_list\n",
        "\n",
        "# The above solution checks the values into a set and it is O(1) efficient using\n",
        "# a few of lines.\n",
        "# A shorter solution follows: it is O(n^2) but can be fine when lst has no \"too\n",
        "# many elements\" - the quantity depends by the running box."
      ],
      "metadata": {
        "id": "W1kDoDosfOVy"
      },
      "execution_count": 11,
      "outputs": []
    },
    {
      "cell_type": "code",
      "source": [
        "def remove_duplicates2(lst):\n",
        "  new_list = []\n",
        "  for elem in lst:\n",
        "    if elem not in new_list:\n",
        "      new_list.append(elem)\n",
        "  return new_list"
      ],
      "metadata": {
        "id": "zf-_Cuwqf2uj"
      },
      "execution_count": 13,
      "outputs": []
    },
    {
      "cell_type": "markdown",
      "source": [
        "7) Count. Count how many times each element in a list occurs.\n",
        "\n",
        "[1, 3, 2, 1, 5, 3, 5, 1, 4] ⇒\n",
        "\n",
        "1: 3 times\n",
        "2: 1 time\n",
        "3: 2 times\n",
        "4: 1 time\n",
        "5: 2 times"
      ],
      "metadata": {
        "id": "0Zlg2Y-jgbrz"
      }
    },
    {
      "cell_type": "code",
      "source": [
        "numbers = [1,3,2,1,5,3,5,1,4]\n",
        "counter = dict()\n",
        "for elem in numbers:\n",
        "  counter[elem] = counter.get(elem, 0)+1\n",
        "  "
      ],
      "metadata": {
        "id": "kf6Irm7dgWiw"
      },
      "execution_count": 14,
      "outputs": []
    },
    {
      "cell_type": "code",
      "source": [
        "from collections import Counter \n",
        "numbers = [1,3,2,5,3,5,1,4]\n",
        "counter = Counter(numbers)\n"
      ],
      "metadata": {
        "id": "q4V2nLHUgnlO"
      },
      "execution_count": 15,
      "outputs": []
    },
    {
      "cell_type": "markdown",
      "source": [
        "8) Palindrome. Is string a palindrome? A palindrome is a word which reads the same backward as forwards.\n",
        "\n",
        "“ololo” ⇒ Yes\n",
        "“cafe” ⇒ No"
      ],
      "metadata": {
        "id": "clih42gCg1vU"
      }
    },
    {
      "cell_type": "code",
      "source": [
        "def is_palindrome(s):\n",
        "  return s==s[::-1]\n",
        "  "
      ],
      "metadata": {
        "id": "H1sjkPJXgzfO"
      },
      "execution_count": 16,
      "outputs": []
    },
    {
      "cell_type": "code",
      "source": [
        "def is_palindrome(s):\n",
        "  for i in range(len(s)//2):\n",
        "    if s[i] != s[-i-1]:\n",
        "      return False\n",
        "  return True\n"
      ],
      "metadata": {
        "id": "pkWV9ocAg6-d"
      },
      "execution_count": 17,
      "outputs": []
    },
    {
      "cell_type": "markdown",
      "source": [
        "9) Counter. We have a list with identifiers of form “id-SITE”. Calculate how many ids we have per site.\n",
        "\n",
        "![image.png](data:image/png;base64,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)\n"
      ],
      "metadata": {
        "id": "ewpxlBOkhRON"
      }
    },
    {
      "cell_type": "code",
      "source": [
        "def counter(lst):\n",
        "  ans = {}\n",
        "  for i in lst:\n",
        "    site = i[-2:]\n",
        "    ans[site] = ans.get(site, 0) + 1\n",
        "  return ans"
      ],
      "metadata": {
        "id": "fQvx8NaZhLo_"
      },
      "execution_count": 18,
      "outputs": []
    },
    {
      "cell_type": "markdown",
      "source": [
        "10) Top counter. We have a list with identifiers of form “id-SITE”. Show the top 3 sites. You can break ties in any way you want.\n",
        "![image.png](data:image/png;base64,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)"
      ],
      "metadata": {
        "id": "_wxe5GJYhnNz"
      }
    },
    {
      "cell_type": "code",
      "source": [
        "def top_counter(lst):\n",
        "  site_dict = counter(lst)\n",
        "  top_keys = sorted(site_dict, reverse=True, key=site_dict.get)[:3]\n",
        "  return {key: site_dict[key] for key in top_keys}\n",
        "  "
      ],
      "metadata": {
        "id": "jaV2jtE9hgYy"
      },
      "execution_count": 19,
      "outputs": []
    },
    {
      "cell_type": "markdown",
      "source": [
        "11) RLE. Implement RLE (run-length encoding): encode each character by the number of times it appears consecutively.\n",
        "\n",
        "'aaaabbbcca' ⇒ [('a', 4), ('b', 3), ('c', 2), ('a', 1)]\n",
        "(note that there are two groups of 'a')"
      ],
      "metadata": {
        "id": "RUyJzffKiQMz"
      }
    },
    {
      "cell_type": "code",
      "source": [
        "def rle(s):\n",
        "  ans, cur, num = [], None, 0\n",
        "  for i in range(len(s)):\n",
        "    if i == 0:\n",
        "      cur, num = s[i],1\n",
        "    elif cur != s[i]:\n",
        "      ans.append((cur, num))\n",
        "      cur, num = s[i],1\n",
        "    else:\n",
        "      num += 1\n",
        "    if i == len(s)-1:\n",
        "      ans.append((cur, num))\n",
        "  return ans\n"
      ],
      "metadata": {
        "id": "rvsH8TLuiMbu"
      },
      "execution_count": 20,
      "outputs": []
    },
    {
      "cell_type": "code",
      "source": [],
      "metadata": {
        "id": "XYEsKZ8Oiz48"
      },
      "execution_count": null,
      "outputs": []
    }
  ]
}